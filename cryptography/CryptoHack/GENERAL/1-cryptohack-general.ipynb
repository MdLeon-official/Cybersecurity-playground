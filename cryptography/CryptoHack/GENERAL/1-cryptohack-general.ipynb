{
 "cells": [
  {
   "cell_type": "markdown",
   "id": "35842b21",
   "metadata": {},
   "source": [
    "# CRYPTOHACK General\n",
    "\n",
    "# Encoding"
   ]
  },
  {
   "cell_type": "code",
   "execution_count": null,
   "id": "876b6129",
   "metadata": {},
   "outputs": [],
   "source": [
    "ascii_values = [99, 114, 121, 112, 116, 111, 123, 65, 83, 67, 73, 73, 95, 112, 114, 49, 110, 116, 52, 98, 108, 51, 125]\n",
    "flag = ''.join([chr(i) for i in ascii_values])\n",
    "print(flag)"
   ]
  },
  {
   "cell_type": "markdown",
   "id": "ac99fa59",
   "metadata": {},
   "source": [
    "### Key Notes:\n",
    "* `chr()` converts an integer (0–127) into its corresponding ASCII character.\n",
    "* Lists can be easily converted to strings using `''.join([...])`."
   ]
  }
 ],
 "metadata": {
  "language_info": {
   "name": "python"
  }
 },
 "nbformat": 4,
 "nbformat_minor": 5
}
