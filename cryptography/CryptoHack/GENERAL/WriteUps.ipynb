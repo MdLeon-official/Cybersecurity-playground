# CRYPTOHACK General

# Encoding
ascii_values = [99, 114, 121, 112, 116, 111, 123, 65, 83, 67, 73, 73, 95, 112, 114, 49, 110, 116, 52, 98, 108, 51, 125]
flag = ''.join([chr(i) for i in ascii_values])
print(flag)
### Key Notes:
* `chr()` converts an integer (0–127) into its corresponding ASCII character.
* Lists can be easily converted to strings using `''.join([...])`.
